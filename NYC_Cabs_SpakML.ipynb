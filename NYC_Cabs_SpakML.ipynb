{
  "nbformat": 4,
  "nbformat_minor": 0,
  "metadata": {
    "colab": {
      "provenance": []
    },
    "kernelspec": {
      "name": "python3",
      "display_name": "Python 3"
    },
    "language_info": {
      "name": "python"
    }
  },
  "cells": [
    {
      "cell_type": "code",
      "execution_count": null,
      "metadata": {
        "id": "xFQgLc_BYyNy"
      },
      "outputs": [],
      "source": [
        "!apt-get install openjdk-8-jdk-headless -qq > /dev/null\n",
        "!wget -q https://archive.apache.org/dist/spark/spark-3.2.0/spark-3.2.0-bin-hadoop3.2.tgz\n",
        "!tar xf spark-3.2.0-bin-hadoop3.2.tgz\n",
        "!pip install -q findspark"
      ]
    },
    {
      "cell_type": "code",
      "source": [
        "import os\n",
        "os.environ[\"JAVA_HOME\"] = \"/usr/lib/jvm/java-8-openjdk-amd64\"\n",
        "os.environ[\"SPARK_HOME\"] = \"spark-3.2.0-bin-hadoop3.2\""
      ],
      "metadata": {
        "id": "FKsBdygXY1RL"
      },
      "execution_count": null,
      "outputs": []
    },
    {
      "cell_type": "code",
      "source": [
        "import findspark\n",
        "findspark.init()"
      ],
      "metadata": {
        "id": "z1IfS6blY2Zz"
      },
      "execution_count": null,
      "outputs": []
    },
    {
      "cell_type": "code",
      "source": [
        "from pyspark.sql import SparkSession\n",
        "spark = SparkSession.builder.master(\"local[*]\").getOrCreate()\n",
        "\n",
        "spark = SparkSession.builder \\\n",
        "    .appName(\"TotalTripTimeExample\") \\\n",
        "    .getOrCreate()\n",
        "sc = spark.sparkContext\n",
        "sc"
      ],
      "metadata": {
        "colab": {
          "base_uri": "https://localhost:8080/",
          "height": 193
        },
        "id": "SopfiFr_Y4gj",
        "outputId": "b375a48b-5bd8-4719-a656-104df0e62d9d"
      },
      "execution_count": null,
      "outputs": [
        {
          "output_type": "execute_result",
          "data": {
            "text/plain": [
              "<SparkContext master=local[*] appName=pyspark-shell>"
            ],
            "text/html": [
              "\n",
              "        <div>\n",
              "            <p><b>SparkContext</b></p>\n",
              "\n",
              "            <p><a href=\"http://d428d4a56284:4040\">Spark UI</a></p>\n",
              "\n",
              "            <dl>\n",
              "              <dt>Version</dt>\n",
              "                <dd><code>v3.2.0</code></dd>\n",
              "              <dt>Master</dt>\n",
              "                <dd><code>local[*]</code></dd>\n",
              "              <dt>AppName</dt>\n",
              "                <dd><code>pyspark-shell</code></dd>\n",
              "            </dl>\n",
              "        </div>\n",
              "        "
            ]
          },
          "metadata": {},
          "execution_count": 4
        }
      ]
    },
    {
      "cell_type": "code",
      "source": [
        "from google.colab import drive\n",
        "drive.mount('/content/drive')"
      ],
      "metadata": {
        "colab": {
          "base_uri": "https://localhost:8080/"
        },
        "id": "AQlUugrhY8XS",
        "outputId": "875c1279-cbf9-4526-ddca-c3c9cb544dfe"
      },
      "execution_count": null,
      "outputs": [
        {
          "output_type": "stream",
          "name": "stdout",
          "text": [
            "Mounted at /content/drive\n"
          ]
        }
      ]
    },
    {
      "cell_type": "code",
      "source": [
        "import pyspark.sql\n",
        "from pyspark.sql import Row\n",
        "from pyspark.sql.types import *\n",
        "import json"
      ],
      "metadata": {
        "id": "nHU6L0j4cArK"
      },
      "execution_count": null,
      "outputs": []
    },
    {
      "cell_type": "code",
      "source": [
        "from pyspark.ml.regression import LinearRegression\n",
        "from pyspark.ml.tuning import TrainValidationSplit\n",
        "from pyspark.ml.regression import RandomForestRegressor\n",
        "from pyspark.ml.regression import DecisionTreeRegressor\n",
        "from pyspark.ml.feature import VectorAssembler\n",
        "from pyspark.sql.functions import col,expr, unix_timestamp, coalesce\n",
        "from pyspark.ml.evaluation import RegressionEvaluator\n",
        "from pyspark.sql import functions as F"
      ],
      "metadata": {
        "id": "qiM_cWIgZBUZ"
      },
      "execution_count": null,
      "outputs": []
    },
    {
      "cell_type": "code",
      "source": [
        "data=spark.read.format(\"csv\").option(\"header\",\"true\").load(\"/content/drive/MyDrive/nyc_taxi.csv\")\n",
        "data.show()"
      ],
      "metadata": {
        "colab": {
          "base_uri": "https://localhost:8080/"
        },
        "id": "vupVIjxrbygd",
        "outputId": "d28d54cb-8b67-4787-c2cc-63840255d4c9"
      },
      "execution_count": null,
      "outputs": [
        {
          "output_type": "stream",
          "name": "stdout",
          "text": [
            "+-----------+-----------+------------+------------+--------+----+-----+\n",
            "|pickup_date|pickup_time|dropoff_date|dropoff_time|distance| tip| fare|\n",
            "+-----------+-----------+------------+------------+--------+----+-----+\n",
            "|   1/1/2017|       0:00|    1/1/2017|        0:00|    0.02|   0| 52.8|\n",
            "|   1/1/2017|       0:00|    1/1/2017|        0:03|     0.5|   0|  5.3|\n",
            "|   1/1/2017|       0:00|    1/1/2017|        0:39|    7.75|4.66|27.96|\n",
            "|   1/1/2017|       0:00|    1/1/2017|        0:06|     0.8|1.45| 8.75|\n",
            "|   1/1/2017|       0:00|    1/1/2017|        0:08|     0.9|   0|  8.3|\n",
            "|   1/1/2017|       0:00|    1/1/2017|        0:05|    1.76|   0|  8.3|\n",
            "|   1/1/2017|       0:00|    1/1/2017|        0:15|    8.47|7.71|38.55|\n",
            "|   1/1/2017|       0:00|    1/1/2017|        0:11|     2.4|   0| 11.8|\n",
            "|   1/1/2017|       0:00|    1/1/2017|        0:23|    12.6|  10| 70.3|\n",
            "|   1/1/2017|       0:00|    1/1/2017|        0:08|     0.9|2.05|10.35|\n",
            "|   1/1/2017|       0:00|    1/1/2017|        0:09|    2.43| 2.7| 13.5|\n",
            "|   1/1/2017|       0:00|    1/1/2017|        0:16|     2.6|2.76|16.56|\n",
            "|   1/1/2017|       0:00|    1/1/2017|        0:18|    4.25|   0| 17.8|\n",
            "|   1/1/2017|       0:00|    1/1/2017|        0:07|    0.65| 1.7|  9.5|\n",
            "|   1/1/2017|       0:00|    1/1/2017|        0:34|    3.42|   0| 23.8|\n",
            "|   1/1/2017|       0:00|    1/1/2017|        0:24|     6.6|   0| 24.3|\n",
            "|   1/1/2017|       0:00|    1/1/2017|        0:02|     0.5|   0|  5.3|\n",
            "|   1/1/2017|       0:00|    1/1/2017|        0:08|     1.2|1.75|10.55|\n",
            "|   1/1/2017|       0:00|    1/1/2017|        0:12|     1.7|   0| 10.8|\n",
            "|   1/1/2017|       0:00|    1/1/2017|        0:09|     5.3|   0| 17.3|\n",
            "+-----------+-----------+------------+------------+--------+----+-----+\n",
            "only showing top 20 rows\n",
            "\n"
          ]
        }
      ]
    },
    {
      "cell_type": "markdown",
      "source": [
        "### **Using Spark MLlib build a model to predict taxi fare from trip distance (Model: M1)**"
      ],
      "metadata": {
        "id": "sTmvuV2Fs-5q"
      }
    },
    {
      "cell_type": "code",
      "source": [
        "data = data.withColumn(\"distance\", col(\"distance\").cast(\"double\"))\n",
        "data = data.withColumn(\"fare\", col(\"fare\").cast(\"double\"))\n",
        "feature_column=['distance']\n",
        "label_column='fare'\n",
        "assembler=VectorAssembler(inputCols=feature_column,outputCol='features')\n",
        "df_assembler=assembler.transform(data)\n",
        "training_data,testing_data=df_assembler.randomSplit([0.7,0.3],seed=100)"
      ],
      "metadata": {
        "id": "62mn5hLKyxJ5"
      },
      "execution_count": null,
      "outputs": []
    },
    {
      "cell_type": "code",
      "source": [
        "model=LinearRegression(featuresCol='features',labelCol=label_column)\n",
        "lr=model.fit(training_data)"
      ],
      "metadata": {
        "id": "rE8BA90QWXPF"
      },
      "execution_count": null,
      "outputs": []
    },
    {
      "cell_type": "code",
      "source": [
        "predictions=lr.transform(testing_data)\n",
        "predictions.show()"
      ],
      "metadata": {
        "colab": {
          "base_uri": "https://localhost:8080/"
        },
        "id": "8v6z6ZIkX4S9",
        "outputId": "faf0d8d1-b1ee-4f86-a5df-cc32525bd31c"
      },
      "execution_count": null,
      "outputs": [
        {
          "output_type": "stream",
          "name": "stdout",
          "text": [
            "+-----------+-----------+------------+------------+--------+----+-----+--------+------------------+\n",
            "|pickup_date|pickup_time|dropoff_date|dropoff_time|distance| tip| fare|features|        prediction|\n",
            "+-----------+-----------+------------+------------+--------+----+-----+--------+------------------+\n",
            "|   1/1/2017|       0:00|    1/1/2017|        0:01|     0.1|   0|  4.3|   [0.1]| 7.257859468598113|\n",
            "|   1/1/2017|       0:00|    1/1/2017|        0:03|    0.56|   0|  5.8|  [0.56]| 8.693181547221736|\n",
            "|   1/1/2017|       0:00|    1/1/2017|        0:03|     0.9|   0|  6.3|   [0.9]|  9.75407177924789|\n",
            "|   1/1/2017|       0:00|    1/1/2017|        0:04|     0.4|   0|  5.8|   [0.4]|  8.19393908509178|\n",
            "|   1/1/2017|       0:00|    1/1/2017|        0:04|     0.6|   0|  6.3|   [0.6]| 8.817992162754225|\n",
            "|   1/1/2017|       0:00|    1/1/2017|        0:05|     0.6|1.16| 6.96|   [0.6]| 8.817992162754225|\n",
            "|   1/1/2017|       0:00|    1/1/2017|        0:05|     0.9|   0|  7.3|   [0.9]|  9.75407177924789|\n",
            "|   1/1/2017|       0:00|    1/1/2017|        0:06|    0.79|1.82| 9.12|  [0.79]| 9.410842586533546|\n",
            "|   1/1/2017|       0:00|    1/1/2017|        0:07|     1.0|   0|  7.8|   [1.0]|10.066098318079113|\n",
            "|   1/1/2017|       0:00|    1/1/2017|        0:08|     0.9|2.05|10.35|   [0.9]|  9.75407177924789|\n",
            "|   1/1/2017|       0:00|    1/1/2017|        0:08|     1.2|1.75|10.55|   [1.2]|10.690151395741557|\n",
            "|   1/1/2017|       0:00|    1/1/2017|        0:08|    1.78|1.86|11.16|  [1.78]|12.499905320962647|\n",
            "|   1/1/2017|       0:00|    1/1/2017|        0:08|    1.96|   0|  9.8|  [1.96]|13.061553090858848|\n",
            "|   1/1/2017|       0:00|    1/1/2017|        0:08|    4.29|   0| 14.8|  [4.29]|20.331771445626323|\n",
            "|   1/1/2017|       0:00|    1/1/2017|        0:09|     1.7|2.45|12.25|   [1.7]|12.250284089897669|\n",
            "|   1/1/2017|       0:00|    1/1/2017|        0:11|     0.1|   0|  9.3|   [0.1]| 7.257859468598113|\n",
            "|   1/1/2017|       0:00|    1/1/2017|        0:12|     1.9|   0| 11.3|   [1.9]|12.874337167560114|\n",
            "|   1/1/2017|       0:00|    1/1/2017|        0:13|     2.1|   0| 11.8|   [2.1]| 13.49839024522256|\n",
            "|   1/1/2017|       0:00|    1/1/2017|        0:13|    2.75|   2| 14.8|  [2.75]|15.526562747625503|\n",
            "|   1/1/2017|       0:00|    1/1/2017|        0:14|    4.41|   2| 17.8|  [4.41]| 20.70620329222379|\n",
            "+-----------+-----------+------------+------------+--------+----+-----+--------+------------------+\n",
            "only showing top 20 rows\n",
            "\n"
          ]
        }
      ]
    },
    {
      "cell_type": "markdown",
      "source": [
        "### **Using Spark MLlib build a model to predict taxi fare from trip distance and trip duration in minutes (Model: M2). M2 will have two features**"
      ],
      "metadata": {
        "id": "LAc0b9-ytCVi"
      }
    },
    {
      "cell_type": "code",
      "source": [
        "evaluator1 = RegressionEvaluator(labelCol=label_column, predictionCol=\"prediction\", metricName=\"rmse\")\n",
        "rmse1 = evaluator1.evaluate(predictions)\n",
        "\n",
        "print(f\"Root Mean Squared Error (RMSE) on test data: {rmse1}\")"
      ],
      "metadata": {
        "colab": {
          "base_uri": "https://localhost:8080/"
        },
        "id": "c6qdDGcg7BJ0",
        "outputId": "f8e03e2d-d9b8-47ef-dc77-1052096c79b3"
      },
      "execution_count": null,
      "outputs": [
        {
          "output_type": "stream",
          "name": "stdout",
          "text": [
            "Root Mean Squared Error (RMSE) on test data: 5.794842309285673\n"
          ]
        }
      ]
    },
    {
      "cell_type": "code",
      "source": [
        "spark.conf.set(\"spark.sql.legacy.timeParserPolicy\", \"LEGACY\")"
      ],
      "metadata": {
        "id": "Th9rGnx6517M"
      },
      "execution_count": null,
      "outputs": []
    },
    {
      "cell_type": "code",
      "source": [
        "data = data.withColumn(\"pickup_datetime\", unix_timestamp(\"pickup_date\", \"MM/dd/yyyy\") + unix_timestamp(\"pickup_time\", \"HH:mm\").cast(\"double\"))\n",
        "data = data.withColumn(\"dropoff_datetime\", unix_timestamp(\"dropoff_date\", \"MM/dd/yyyy\") + unix_timestamp(\"dropoff_time\", \"HH:mm\").cast(\"double\"))\n",
        "data = data.withColumn(\"trip_duration_minutes\", ((col(\"dropoff_datetime\") - col(\"pickup_datetime\")) / 60).cast(\"double\"))"
      ],
      "metadata": {
        "id": "sk3Nk5yCoAwY"
      },
      "execution_count": null,
      "outputs": []
    },
    {
      "cell_type": "code",
      "source": [
        "data.show()"
      ],
      "metadata": {
        "colab": {
          "base_uri": "https://localhost:8080/"
        },
        "id": "FIFNPC-ThsUg",
        "outputId": "e32b4ffd-591c-4deb-91b4-4ed03936bb00"
      },
      "execution_count": null,
      "outputs": [
        {
          "output_type": "stream",
          "name": "stdout",
          "text": [
            "+-----------+-----------+------------+------------+--------+----+-----+---------------+----------------+---------------------+\n",
            "|pickup_date|pickup_time|dropoff_date|dropoff_time|distance| tip| fare|pickup_datetime|dropoff_datetime|trip_duration_minutes|\n",
            "+-----------+-----------+------------+------------+--------+----+-----+---------------+----------------+---------------------+\n",
            "|   1/1/2017|       0:00|    1/1/2017|        0:00|    0.02|   0| 52.8|    1.4832288E9|     1.4832288E9|                  0.0|\n",
            "|   1/1/2017|       0:00|    1/1/2017|        0:03|     0.5|   0|  5.3|    1.4832288E9|    1.48322898E9|                  3.0|\n",
            "|   1/1/2017|       0:00|    1/1/2017|        0:39|    7.75|4.66|27.96|    1.4832288E9|    1.48323114E9|                 39.0|\n",
            "|   1/1/2017|       0:00|    1/1/2017|        0:06|     0.8|1.45| 8.75|    1.4832288E9|    1.48322916E9|                  6.0|\n",
            "|   1/1/2017|       0:00|    1/1/2017|        0:08|     0.9|   0|  8.3|    1.4832288E9|    1.48322928E9|                  8.0|\n",
            "|   1/1/2017|       0:00|    1/1/2017|        0:05|    1.76|   0|  8.3|    1.4832288E9|     1.4832291E9|                  5.0|\n",
            "|   1/1/2017|       0:00|    1/1/2017|        0:15|    8.47|7.71|38.55|    1.4832288E9|     1.4832297E9|                 15.0|\n",
            "|   1/1/2017|       0:00|    1/1/2017|        0:11|     2.4|   0| 11.8|    1.4832288E9|    1.48322946E9|                 11.0|\n",
            "|   1/1/2017|       0:00|    1/1/2017|        0:23|    12.6|  10| 70.3|    1.4832288E9|    1.48323018E9|                 23.0|\n",
            "|   1/1/2017|       0:00|    1/1/2017|        0:08|     0.9|2.05|10.35|    1.4832288E9|    1.48322928E9|                  8.0|\n",
            "|   1/1/2017|       0:00|    1/1/2017|        0:09|    2.43| 2.7| 13.5|    1.4832288E9|    1.48322934E9|                  9.0|\n",
            "|   1/1/2017|       0:00|    1/1/2017|        0:16|     2.6|2.76|16.56|    1.4832288E9|    1.48322976E9|                 16.0|\n",
            "|   1/1/2017|       0:00|    1/1/2017|        0:18|    4.25|   0| 17.8|    1.4832288E9|    1.48322988E9|                 18.0|\n",
            "|   1/1/2017|       0:00|    1/1/2017|        0:07|    0.65| 1.7|  9.5|    1.4832288E9|    1.48322922E9|                  7.0|\n",
            "|   1/1/2017|       0:00|    1/1/2017|        0:34|    3.42|   0| 23.8|    1.4832288E9|    1.48323084E9|                 34.0|\n",
            "|   1/1/2017|       0:00|    1/1/2017|        0:24|     6.6|   0| 24.3|    1.4832288E9|    1.48323024E9|                 24.0|\n",
            "|   1/1/2017|       0:00|    1/1/2017|        0:02|     0.5|   0|  5.3|    1.4832288E9|    1.48322892E9|                  2.0|\n",
            "|   1/1/2017|       0:00|    1/1/2017|        0:08|     1.2|1.75|10.55|    1.4832288E9|    1.48322928E9|                  8.0|\n",
            "|   1/1/2017|       0:00|    1/1/2017|        0:12|     1.7|   0| 10.8|    1.4832288E9|    1.48322952E9|                 12.0|\n",
            "|   1/1/2017|       0:00|    1/1/2017|        0:09|     5.3|   0| 17.3|    1.4832288E9|    1.48322934E9|                  9.0|\n",
            "+-----------+-----------+------------+------------+--------+----+-----+---------------+----------------+---------------------+\n",
            "only showing top 20 rows\n",
            "\n"
          ]
        }
      ]
    },
    {
      "cell_type": "code",
      "source": [
        "features_column=['trip_duration_minutes','distance']\n",
        "assembler1=VectorAssembler(inputCols=features_column,outputCol='features1')\n",
        "df1_assembler=assembler1.transform(data)\n",
        "training_data1,testing_data1=df1_assembler.randomSplit([0.7,0.3],seed=100)"
      ],
      "metadata": {
        "id": "0XhZ5e7Fh9Pt"
      },
      "execution_count": null,
      "outputs": []
    },
    {
      "cell_type": "code",
      "source": [
        "model2=LinearRegression(featuresCol='features1',labelCol=label_column)\n",
        "lr1=model2.fit(training_data1)"
      ],
      "metadata": {
        "id": "PyI0D--EgAYt"
      },
      "execution_count": null,
      "outputs": []
    },
    {
      "cell_type": "code",
      "source": [
        "predictions1=lr1.transform(testing_data1)"
      ],
      "metadata": {
        "id": "Nfb5nDXvenTh"
      },
      "execution_count": null,
      "outputs": []
    },
    {
      "cell_type": "code",
      "source": [
        "predictions1.show()"
      ],
      "metadata": {
        "colab": {
          "base_uri": "https://localhost:8080/"
        },
        "id": "gyAeXzzQwLth",
        "outputId": "b9fee8fc-fd3e-4f06-a8c6-c3e40566e8f7"
      },
      "execution_count": null,
      "outputs": [
        {
          "output_type": "stream",
          "name": "stdout",
          "text": [
            "+-----------+-----------+------------+------------+--------+----+-----+---------------+----------------+---------------------+-----------+------------------+\n",
            "|pickup_date|pickup_time|dropoff_date|dropoff_time|distance| tip| fare|pickup_datetime|dropoff_datetime|trip_duration_minutes|  features1|        prediction|\n",
            "+-----------+-----------+------------+------------+--------+----+-----+---------------+----------------+---------------------+-----------+------------------+\n",
            "|   1/1/2017|       0:00|    1/1/2017|        0:01|     0.1|   0|  4.3|    1.4832288E9|    1.48322886E9|                  1.0|  [1.0,0.1]| 7.175072269750122|\n",
            "|   1/1/2017|       0:00|    1/1/2017|        0:03|    0.56|   0|  5.8|    1.4832288E9|    1.48322898E9|                  3.0| [3.0,0.56]| 8.621197827140925|\n",
            "|   1/1/2017|       0:00|    1/1/2017|        0:03|     0.9|   0|  6.3|    1.4832288E9|    1.48322898E9|                  3.0|  [3.0,0.9]| 9.673980538318524|\n",
            "|   1/1/2017|       0:00|    1/1/2017|        0:04|     0.4|   0|  5.8|    1.4832288E9|    1.48322904E9|                  4.0|  [4.0,0.4]| 8.136656907720843|\n",
            "|   1/1/2017|       0:00|    1/1/2017|        0:04|     0.6|   0|  6.3|    1.4832288E9|    1.48322904E9|                  4.0|  [4.0,0.6]| 8.755940855472373|\n",
            "|   1/1/2017|       0:00|    1/1/2017|        0:05|     0.6|1.16| 6.96|    1.4832288E9|     1.4832291E9|                  5.0|  [5.0,0.6]| 8.766827094253514|\n",
            "|   1/1/2017|       0:00|    1/1/2017|        0:05|     0.9|   0|  7.3|    1.4832288E9|     1.4832291E9|                  5.0|  [5.0,0.9]| 9.695753015880808|\n",
            "|   1/1/2017|       0:00|    1/1/2017|        0:06|    0.79|1.82| 9.12|    1.4832288E9|    1.48322916E9|                  6.0| [6.0,0.79]| 9.366033083398609|\n",
            "|   1/1/2017|       0:00|    1/1/2017|        0:07|     1.0|   0|  7.8|    1.4832288E9|    1.48322922E9|                  7.0|  [7.0,1.0]|10.027167467318858|\n",
            "|   1/1/2017|       0:00|    1/1/2017|        0:08|     0.9|2.05|10.35|    1.4832288E9|    1.48322928E9|                  8.0|  [8.0,0.9]| 9.728411732224234|\n",
            "|   1/1/2017|       0:00|    1/1/2017|        0:08|     1.2|1.75|10.55|    1.4832288E9|    1.48322928E9|                  8.0|  [8.0,1.2]| 10.65733765385153|\n",
            "|   1/1/2017|       0:00|    1/1/2017|        0:08|    1.78|1.86|11.16|    1.4832288E9|    1.48322928E9|                  8.0| [8.0,1.78]|12.453261102330963|\n",
            "|   1/1/2017|       0:00|    1/1/2017|        0:08|    1.96|   0|  9.8|    1.4832288E9|    1.48322928E9|                  8.0| [8.0,1.96]| 13.01061665530734|\n",
            "|   1/1/2017|       0:00|    1/1/2017|        0:08|    4.29|   0| 14.8|    1.4832288E9|    1.48322928E9|                  8.0| [8.0,4.29]|20.225274646612654|\n",
            "|   1/1/2017|       0:00|    1/1/2017|        0:09|     1.7|2.45|12.25|    1.4832288E9|    1.48322934E9|                  9.0|  [9.0,1.7]|12.216433762011494|\n",
            "|   1/1/2017|       0:00|    1/1/2017|        0:11|     0.1|   0|  9.3|    1.4832288E9|    1.48322946E9|                 11.0| [11.0,0.1]| 7.283934657561547|\n",
            "|   1/1/2017|       0:00|    1/1/2017|        0:12|     1.9|   0| 11.3|    1.4832288E9|    1.48322952E9|                 12.0| [12.0,1.9]|12.868376426106451|\n",
            "|   1/1/2017|       0:00|    1/1/2017|        0:13|     2.1|   0| 11.8|    1.4832288E9|    1.48322958E9|                 13.0| [13.0,2.1]|13.498546612639123|\n",
            "|   1/1/2017|       0:00|    1/1/2017|        0:13|    2.75|   2| 14.8|    1.4832288E9|    1.48322958E9|                 13.0|[13.0,2.75]|15.511219442831592|\n",
            "|   1/1/2017|       0:00|    1/1/2017|        0:14|    4.41|   2| 17.8|    1.4832288E9|    1.48322964E9|                 14.0|[14.0,4.41]|20.662162447950426|\n",
            "+-----------+-----------+------------+------------+--------+----+-----+---------------+----------------+---------------------+-----------+------------------+\n",
            "only showing top 20 rows\n",
            "\n"
          ]
        }
      ]
    },
    {
      "cell_type": "code",
      "source": [
        "evaluator2 = RegressionEvaluator(labelCol=label_column, predictionCol=\"prediction\", metricName=\"rmse\")\n",
        "rmse2 = evaluator2.evaluate(predictions1)\n",
        "\n",
        "print(f\"Root Mean Squared Error (RMSE) on test data: {rmse2}\")"
      ],
      "metadata": {
        "colab": {
          "base_uri": "https://localhost:8080/"
        },
        "id": "pRc7tWSs72GG",
        "outputId": "cff8447e-6b85-41f6-fe56-b1f4fa9e4cc8"
      },
      "execution_count": null,
      "outputs": [
        {
          "output_type": "stream",
          "name": "stdout",
          "text": [
            "Root Mean Squared Error (RMSE) on test data: 5.8061672234759305\n"
          ]
        }
      ]
    },
    {
      "cell_type": "markdown",
      "source": [
        "### **What is the fare of a 20 mile long trip using M1**"
      ],
      "metadata": {
        "id": "CZ43kHt3tPkd"
      }
    },
    {
      "cell_type": "code",
      "source": [
        "from pyspark.sql import Row\n",
        "\n",
        "row = Row(distance=20.0)\n",
        "\n",
        "data_to_predict_m1 = spark.createDataFrame([row])\n",
        "data_to_predict_m1 = assembler.transform(data_to_predict_m1)\n",
        "prediction_m1 = lr.transform(data_to_predict_m1)\n",
        "predicted_fare_m1 = prediction_m1.select(\"prediction\")\n",
        "\n",
        "print(\"Fare of a 20 mile long trip\",predicted_fare_m1.collect()[0][0])\n"
      ],
      "metadata": {
        "colab": {
          "base_uri": "https://localhost:8080/"
        },
        "id": "jZfmgw543OGi",
        "outputId": "cfb8ca99-9e90-4460-864d-8ac85bb575ab"
      },
      "execution_count": null,
      "outputs": [
        {
          "output_type": "stream",
          "name": "stdout",
          "text": [
            "Fare of a 20 mile long trip 69.35114069601134\n"
          ]
        }
      ]
    },
    {
      "cell_type": "markdown",
      "source": [
        "### **What is the fare of a 14 mile trip that took 75 minutes using M2**"
      ],
      "metadata": {
        "id": "JyqXsDn6tdMc"
      }
    },
    {
      "cell_type": "code",
      "source": [
        "row1 = Row(distance=14.0, trip_duration_minutes=75.0)\n",
        "\n",
        "data_to_predict_m2 = spark.createDataFrame([row1])\n",
        "data_to_predict_m2 = assembler1.transform(data_to_predict_m2)\n",
        "prediction_m2 = lr1.transform(data_to_predict_m2)\n",
        "predicted_fare_m2 = prediction_m2.select(\"prediction\")\n",
        "\n",
        "print(\"Fare of a 14 mile trip\",predicted_fare_m2.collect()[0][0])"
      ],
      "metadata": {
        "colab": {
          "base_uri": "https://localhost:8080/"
        },
        "id": "a1utOuSR9R54",
        "outputId": "a522d1f5-bd72-41cd-ed28-dc8c0c9cd5b4"
      },
      "execution_count": null,
      "outputs": [
        {
          "output_type": "stream",
          "name": "stdout",
          "text": [
            "Fare of a 14 mile trip 51.020888308285926\n"
          ]
        }
      ]
    },
    {
      "cell_type": "markdown",
      "source": [
        "### **Which fare is higher 10 mile trip taking 40 min or 13 mile trip taking 25 min?**"
      ],
      "metadata": {
        "id": "fQR9af07DUs4"
      }
    },
    {
      "cell_type": "code",
      "source": [
        "row2=Row(distance=10, trip_duration_minutes=40)\n",
        "\n",
        "data_to_predict_m2_1=spark.createDataFrame([row2])\n",
        "\n",
        "data_to_predict_m2_1=assembler1.transform(data_to_predict_m2_1)\n",
        "\n",
        "prediction_m2_1=lr1.transform(data_to_predict_m2_1)\n",
        "\n",
        "predicted_fare_m2_1=prediction_m2_1.select(\"prediction\").collect()[0][0]\n",
        "\n",
        "predicted_fare_m2_1"
      ],
      "metadata": {
        "colab": {
          "base_uri": "https://localhost:8080/"
        },
        "id": "RV-QuY79DNGY",
        "outputId": "69193128-25fb-4c28-8588-7f3f3290ceaa"
      },
      "execution_count": null,
      "outputs": [
        {
          "output_type": "execute_result",
          "data": {
            "text/plain": [
              "38.254190995915366"
            ]
          },
          "metadata": {},
          "execution_count": 23
        }
      ]
    },
    {
      "cell_type": "code",
      "source": [
        "row3=Row(distance=13, trip_duration_minutes=25)\n",
        "\n",
        "data_to_predict_m2_2=spark.createDataFrame([row3])\n",
        "\n",
        "data_to_predict_m2_2=assembler1.transform(data_to_predict_m2_2)\n",
        "\n",
        "prediction_m2_2=lr1.transform(data_to_predict_m2_2)\n",
        "\n",
        "predicted_fare_m2_2=prediction_m2_2.select('prediction').collect()[0][0]\n",
        "\n",
        "predicted_fare_m2_2"
      ],
      "metadata": {
        "colab": {
          "base_uri": "https://localhost:8080/"
        },
        "id": "F2ff3ViZFHV8",
        "outputId": "fb629ac6-963f-4f5f-c415-5889b69db94a"
      },
      "execution_count": null,
      "outputs": [
        {
          "output_type": "execute_result",
          "data": {
            "text/plain": [
              "47.38015663047116"
            ]
          },
          "metadata": {},
          "execution_count": 24
        }
      ]
    },
    {
      "cell_type": "code",
      "source": [
        "if predicted_fare_m2_1>predicted_fare_m2_2:\n",
        "  print(\"10 mile trip taking 40 min :\",predicted_fare_m2_1)\n",
        "else:\n",
        "  print(\"13 mile trip taking 25 min :\",predicted_fare_m2_2)"
      ],
      "metadata": {
        "colab": {
          "base_uri": "https://localhost:8080/"
        },
        "id": "0w4tGnlaFQRx",
        "outputId": "f0b1cc91-af2a-41ba-d91a-a4f3322f34f4"
      },
      "execution_count": null,
      "outputs": [
        {
          "output_type": "stream",
          "name": "stdout",
          "text": [
            "13 mile trip taking 25 min : 47.38015663047116\n"
          ]
        }
      ]
    },
    {
      "cell_type": "markdown",
      "source": [
        "### **Using Spark operations (transformation and actions) compute the average tip amount**"
      ],
      "metadata": {
        "id": "jqvTZ0BDhHEg"
      }
    },
    {
      "cell_type": "code",
      "source": [
        "average_tip_amount = data.agg({\"tip\": \"avg\"})\n",
        "print('Average tip amount',average_tip_amount.collect()[0][0])"
      ],
      "metadata": {
        "colab": {
          "base_uri": "https://localhost:8080/"
        },
        "id": "iL_v5P54fSN3",
        "outputId": "547524eb-0c06-4146-a130-6234aa2e3e8c"
      },
      "execution_count": null,
      "outputs": [
        {
          "output_type": "stream",
          "name": "stdout",
          "text": [
            "Average tip amount 1.6991557359066232\n"
          ]
        }
      ]
    },
    {
      "cell_type": "markdown",
      "source": [
        "**During which hour the city experiences the most number of trips? E.g. 10am-11am or 4pm-5pm**"
      ],
      "metadata": {
        "id": "Ru0TtGFZEYD-"
      }
    },
    {
      "cell_type": "code",
      "source": [
        "from pyspark.sql.functions import hour\n",
        "data=data.withColumn(\"pickup_hour\",hour(data['pickup_time']))\n",
        "data1=data.groupBy(\"pickup_hour\").count().orderBy(\"count\",ascending=False)\n",
        "print(f\"Hours that have highest trips is: {data1.collect()[0][0]}:00\")"
      ],
      "metadata": {
        "colab": {
          "base_uri": "https://localhost:8080/"
        },
        "id": "dy3DridLgEVL",
        "outputId": "a435afbd-d799-4d05-8af9-2a807aeb66d6"
      },
      "execution_count": null,
      "outputs": [
        {
          "output_type": "stream",
          "name": "stdout",
          "text": [
            "Hours that have highest trips is: 17:00\n"
          ]
        }
      ]
    },
    {
      "cell_type": "markdown",
      "source": [
        "### **Compare Spark’s performance**"
      ],
      "metadata": {
        "id": "dGJOF6fut35_"
      }
    },
    {
      "cell_type": "code",
      "source": [
        "import time\n",
        "import matplotlib.pyplot as plt\n",
        "part = []\n",
        "each_part_time = []\n",
        "\n",
        "for i in range(0, 100, 10):\n",
        "    start_time = time.time()\n",
        "    part.append(f\"data-{i + 10}%\")\n",
        "    part_size = (i + 10) / 100\n",
        "\n",
        "    # Split the data\n",
        "    train_data, test_data = data.randomSplit([0.7,0.3],seed=100)\n",
        "\n",
        "    # Prepare the feature vector\n",
        "    assembler = VectorAssembler(inputCols=[\"distance\"], outputCol=\"features\")\n",
        "    train_data = assembler.transform(train_data)\n",
        "\n",
        "    # Initialize and train the model M1 (you can do the same for M2)\n",
        "    lr = LinearRegression(featuresCol=\"features\", labelCol=\"fare\")\n",
        "    model_M1 = lr.fit(train_data)\n",
        "\n",
        "    print(\"Time for part \" + str(part_size) + \":\", time.time() - start_time)\n",
        "    each_part_time.append(time.time() - start_time)\n",
        "\n",
        "# Plot the execution times\n",
        "fig = plt.figure(figsize=(9, 5))\n",
        "plt.plot(part, each_part_time, color='violet')\n",
        "plt.title(\"Time taken by each method\", size=20)\n",
        "plt.xlabel(\"Percentage\")\n",
        "plt.ylabel(\"Time\")\n",
        "plt.savefig(\"timetaken.png\")\n",
        "plt.show()\n"
      ],
      "metadata": {
        "colab": {
          "base_uri": "https://localhost:8080/",
          "height": 665
        },
        "id": "S0YXYEUlkD54",
        "outputId": "b550bb7a-7ad9-4203-e0ba-bd2bf6134feb"
      },
      "execution_count": null,
      "outputs": [
        {
          "output_type": "stream",
          "name": "stdout",
          "text": [
            "Time for part 0.1: 21.6495304107666\n",
            "Time for part 0.2: 20.810808181762695\n",
            "Time for part 0.3: 18.936809062957764\n",
            "Time for part 0.4: 18.754526138305664\n",
            "Time for part 0.5: 20.56890606880188\n",
            "Time for part 0.6: 19.210867643356323\n",
            "Time for part 0.7: 18.69216561317444\n",
            "Time for part 0.8: 18.76126217842102\n",
            "Time for part 0.9: 20.563498973846436\n",
            "Time for part 1.0: 19.10045313835144\n"
          ]
        },
        {
          "output_type": "display_data",
          "data": {
            "text/plain": [
              "<Figure size 900x500 with 1 Axes>"
            ],
            "image/png": "[encoded data removed]"
          },
          "metadata": {}
        }
      ]
    },
    {
      "cell_type": "code",
      "source": [
        "part1 = []\n",
        "each_part_time1 = []\n",
        "\n",
        "for i in range(0, 100, 10):\n",
        "    start_time = time.time()\n",
        "    part1.append(f\"data-{i + 10}%\")\n",
        "    part1_size = (i + 10) / 100\n",
        "\n",
        "    # Split the data\n",
        "    train_data, test_data = data.randomSplit([0.7,0.3],seed=100)\n",
        "\n",
        "    # Prepare the feature vector\n",
        "    features_column=['trip_duration_minutes','distance']\n",
        "    assembler = VectorAssembler(inputCols=features_column, outputCol=\"features\")\n",
        "    train_data = assembler.transform(train_data)\n",
        "\n",
        "    # Initialize and train the model M2 (you can do the same for M2)\n",
        "    lr = LinearRegression(featuresCol=\"features\", labelCol=\"fare\")\n",
        "    model_M1 = lr.fit(train_data)\n",
        "\n",
        "    print(\"Time for part \" + str(part_size) + \":\", time.time() - start_time)\n",
        "    each_part_time1.append(time.time() - start_time)\n",
        "\n",
        "# Plot the execution times\n",
        "fig = plt.figure(figsize=(9, 5))\n",
        "plt.plot(part1, each_part_time1, color='violet')\n",
        "plt.title(\"Time taken by each method\", size=20)\n",
        "plt.xlabel(\"Percentage\")\n",
        "plt.ylabel(\"Time\")\n",
        "plt.savefig(\"timetaken.png\")\n",
        "plt.show()"
      ],
      "metadata": {
        "colab": {
          "base_uri": "https://localhost:8080/",
          "height": 665
        },
        "id": "dpyi5XezdRL_",
        "outputId": "3418986c-1350-44b3-a19c-e36ba63f2de5"
      },
      "execution_count": null,
      "outputs": [
        {
          "output_type": "stream",
          "name": "stdout",
          "text": [
            "Time for part 1.0: 20.98910641670227\n",
            "Time for part 1.0: 21.940760135650635\n",
            "Time for part 1.0: 18.848644495010376\n",
            "Time for part 1.0: 18.540790557861328\n",
            "Time for part 1.0: 19.572787046432495\n",
            "Time for part 1.0: 20.337162017822266\n",
            "Time for part 1.0: 18.54940438270569\n",
            "Time for part 1.0: 18.623161554336548\n",
            "Time for part 1.0: 19.282005548477173\n",
            "Time for part 1.0: 20.504183292388916\n"
          ]
        },
        {
          "output_type": "display_data",
          "data": {
            "text/plain": [
              "<Figure size 900x500 with 1 Axes>"
            ],
            "image/png": "[encoded data removed]"
          },
          "metadata": {}
        }
      ]
    }
  ]
}